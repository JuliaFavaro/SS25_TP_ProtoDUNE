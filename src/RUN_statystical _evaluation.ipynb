{
 "cells": [
  {
   "cell_type": "markdown",
   "id": "e6d726aa",
   "metadata": {},
   "source": [
    "# Parameter evaluation of clustering method for Real Data from the PDHD Detector\n",
    "## **This notebook focuses on the run 32974, collection plane, APA2 (TPC3).**\n",
    "\n",
    "In RUN_test_event_run.ipynb we analyzed the possibility of using a sequential clustering and then linear regression pattern finding inside the clusters. In this notebook we want to try to find stastistical study on the result on many different events, to check the robustness of our method. "
   ]
  },
  {
   "cell_type": "code",
   "execution_count": 1,
   "id": "581fcd84",
   "metadata": {},
   "outputs": [
    {
     "name": "stdout",
     "output_type": "stream",
     "text": [
      "['event', 'run', 'subrun', 'TP_channel', 'TP_startT', 'TP_peakT', 'TP_TOT', 'TP_SADC', 'TP_peakADC', 'TP_plane', 'TP_TPC']\n"
     ]
    }
   ],
   "source": [
    "import uproot #Uproot is a Python library that allows you to read, write, and manipulate ROOT files without requiring ROOT or C++.\n",
    "import awkward as ak #this is for ragged data handling, which is common in particle physics data\n",
    "import pandas as pd\n",
    "import matplotlib.pyplot as plt\n",
    "import numpy as np\n",
    "import warnings\n",
    "# %matplotlib widget \n",
    "warnings.filterwarnings('ignore') # Ignore warnings for cleaner output\n",
    "\n",
    "filepath = \"../data/pdhd_run032974_tps.root\"    \n",
    "\n",
    "with uproot.open(filepath) as file:\n",
    "    tree = file[\"triggerana/tree\"]  # Adjust the path if your tree is elsewhere\n",
    "    print(tree.keys())  # This prints all branch names in the tree"
   ]
  },
  {
   "cell_type": "code",
   "execution_count": 2,
   "id": "33ef7e64",
   "metadata": {},
   "outputs": [],
   "source": [
    "#instead of using all the branches, we can specify which ones we want to read\n",
    "def load_data(filepath, branch_names, max_events=3000):\n",
    "    \"\"\"Load data from a ROOT file into a pandas DataFrame.\"\"\"\n",
    "    try:\n",
    "        with uproot.open(filepath) as file:\n",
    "            tree = file[\"triggerana/tree\"]\n",
    "            arrays = tree.arrays(branch_names, library=\"ak\", entry_stop=max_events)\n",
    "            return ak.to_dataframe(arrays)\n",
    "    except Exception as e:\n",
    "        print(f\"Error loading data from {filepath}: {e}\")\n",
    "        return None\n",
    "\n",
    "# name of branches in the TTree to read into the pandas df\n",
    "TP_BRANCHES_df = ['event', 'run', 'subrun', 'TP_channel', 'TP_startT', 'TP_peakT', 'TP_TOT', 'TP_SADC', 'TP_peakADC', 'TP_plane', 'TP_TPC'] #trigger primitives for real data"
   ]
  },
  {
   "cell_type": "code",
   "execution_count": 3,
   "id": "0be76ca0",
   "metadata": {},
   "outputs": [],
   "source": [
    "#Let's load the data from runs\n",
    "df_32974= load_data(filepath, TP_BRANCHES_df, 10000)\n",
    "df_32974.run_name = \"Cosmic run 32974\""
   ]
  },
  {
   "cell_type": "code",
   "execution_count": 4,
   "id": "d8bdba2c",
   "metadata": {},
   "outputs": [
    {
     "name": "stdout",
     "output_type": "stream",
     "text": [
      "Event [  8  16  24  32  40  48  56  64  72  80  88  96 104 112 120 128 136 144\n",
      " 152 160 168 176 184 192 200 208 216 224 232 240 248 256 264 272 280 288\n",
      " 296 304 360 368]\n"
     ]
    }
   ],
   "source": [
    "#In this notebook we will try to do some more statystics and use all of them\n",
    "events = df_32974.event.unique()\n",
    "print(f\"Event {events}\")"
   ]
  },
  {
   "cell_type": "code",
   "execution_count": 5,
   "id": "4d9d9cfb",
   "metadata": {},
   "outputs": [],
   "source": [
    "# Global variable for APA ranges\n",
    "apa_ranges = {\n",
    "    \"APA1\": (0, 2560),\n",
    "    \"APA3\": (2560, 5120),\n",
    "    \"APA2\": (5120, 7680),\n",
    "    \"APA4\": (7680, 10240),\n",
    "}"
   ]
  },
  {
   "cell_type": "code",
   "execution_count": null,
   "id": "a7110b8c",
   "metadata": {},
   "outputs": [],
   "source": [
    "plane=2\n",
    "\n",
    "def make_title(run, events, cuts=\"no cuts\"):\n",
    "    return f\"Run {run} | Event {events} | Plane {plane} | {cuts}\""
   ]
  },
  {
   "cell_type": "markdown",
   "id": "8b062241",
   "metadata": {},
   "source": [
    "### Characteristics of a single run (collection plane) hits of a single TPC. "
   ]
  },
  {
   "cell_type": "code",
   "execution_count": 7,
   "id": "1da67002",
   "metadata": {},
   "outputs": [],
   "source": [
    "#timestamps correspond to microseconds, the big number is the first detection hit in timestamp\n",
    "# Note: APA1 collection plane is broken so we will not use it in this analysis.\n",
    "\n",
    "tps= df_32974[df_32974.TP_plane == plane]\n",
    "tps.run_name = \"Cosmic run 32974\""
   ]
  },
  {
   "cell_type": "code",
   "execution_count": 8,
   "id": "3376d783",
   "metadata": {},
   "outputs": [
    {
     "name": "stdout",
     "output_type": "stream",
     "text": [
      "TP_SADC: Minimum value 0.061, maximum 3476.412, mean 4.431609466048282, std deviation 26.564154887469076\n",
      "TP_PeakADC: Minimum value 61, maximum 15886, mean 393.2983097260657, std deviation 445.1967497902622\n",
      "TP_TOT: Minimum value 1, maximum 1171, mean 13.815287995808866, std deviation 18.607527684417374\n"
     ]
    }
   ],
   "source": [
    "print(f\"TP_SADC: Minimum value {tps['TP_SADC'].min()/1e3}, maximum {(tps['TP_SADC'].max()/1e3)}, mean {tps['TP_SADC'].mean()/1e3}, std deviation {tps['TP_SADC'].std()/1e3}\")\n",
    "print(f\"TP_PeakADC: Minimum value {tps['TP_peakADC'].min()}, maximum {(tps['TP_peakADC'].max())}, mean {tps['TP_peakADC'].mean()}, std deviation {tps['TP_peakADC'].std()}\")\n",
    "print(f\"TP_TOT: Minimum value {tps['TP_TOT'].min()}, maximum {(tps['TP_TOT'].max())}, mean {tps['TP_TOT'].mean()}, std deviation {tps['TP_TOT'].std()}\")\n"
   ]
  },
  {
   "cell_type": "markdown",
   "id": "c26b9204",
   "metadata": {},
   "source": [
    "### Looking into thresholds and noise removal"
   ]
  },
  {
   "cell_type": "code",
   "execution_count": 12,
   "id": "fad335f0",
   "metadata": {},
   "outputs": [],
   "source": [
    "def plot_TPC_activity(tp_df, thresh, thresh_type=\"TP_peakADC\", vmin=None, vmax=None, show_counts=True):  \n",
    "    \"\"\"\n",
    "    Creates scatter plots showing TP distribution across APAs with optional bar charts for TP counts. \n",
    "    Scatter plot point sizes are proportional to TP_TOT/10. Scatter plot colors represent TP_SADC values using 'gist_rainbow' colormap\n",
    "    Data is filtered based on specified threshold criteria to remove noise.\n",
    "    Creates 2x2 subplot grid for the 4 APAs in ProtoDUNE. Requires global variable 'apa_ranges' containing APA channel ranges\n",
    "\n",
    "    ----------\n",
    "    tp_df : pandas.DataFrame\n",
    "        DataFrame containing trigger primitive data\n",
    "        \n",
    "    thresh : float\n",
    "        Threshold value for filtering TPs. \n",
    "        \n",
    "    thresh_type : str, optional\n",
    "        Type of threshold to apply for filtering. Default is \"TP_peakADC\".\n",
    "        Options:\n",
    "        - \"TP_peakADC\": Filter by peak ADC value\n",
    "        - \"TP_TOT\": Filter by time over threshold\n",
    "        - \"TP_SADC\": Filter by sum ADC (divided by 1e3 for kADC units)\n",
    "        \n",
    "    vmin : float, optional\n",
    "        Minimum value for colorbar scale in scatter plots. If None, uses data minimum.\n",
    "        \n",
    "    vmax : float, optional\n",
    "        Maximum value for colorbar scale in scatter plots. If None, uses data maximum.\n",
    "        \n",
    "    show_counts : bool, optional\n",
    "        Whether to display bar chart showing TP counts per APA. Default is True.\n",
    "    \"\"\"\n",
    "    global apa_ranges \n",
    "    title_prefix = \"TP Activity per APA\"\n",
    "    # Filter based on the threshold type\n",
    "    if thresh_type == \"TP_peakADC\":\n",
    "        filtered = tp_df[tp_df.TP_peakADC > thresh]\n",
    "    elif thresh_type == \"TP_TOT\":\n",
    "        filtered = tp_df[tp_df.TP_TOT > thresh]\n",
    "    elif thresh_type == \"TP_SADC\":\n",
    "        filtered = tp_df[tp_df.TP_SADC / 1e3 > thresh]\n",
    "    else:\n",
    "        raise ValueError(f\"Unknown threshold type: {thresh_type}\")\n",
    "\n",
    "    print(f\"Threshold ({thresh_type}): {thresh} (TPs: {len(filtered)}, Retaining {len(filtered)/len(tp_df)*100:.2f}% of raw TP)\")\n",
    "    run_type = tp_df.run_name if hasattr(tp_df, 'run_name') else \"unknown_run\"\n",
    "    plot_title = f\"{title_prefix} ({run_type}, threshold: {thresh_type} > {thresh})\"\n",
    "\n",
    "    # --- Scatter plots ---\n",
    "    fig, axs = plt.subplots(2, 2, figsize=(16, 10), sharex=True)\n",
    "    for i, (apa, (start, stop)) in enumerate(apa_ranges.items()):\n",
    "        ax = axs[i//2][i%2]\n",
    "        df_apa = filtered[(filtered.TP_channel >= start) & (filtered.TP_channel < stop)]\n",
    "        sc = ax.scatter(\n",
    "            df_apa.TP_peakT, df_apa.TP_channel,\n",
    "            s=df_apa.TP_TOT / 10,\n",
    "            c=df_apa.TP_SADC,\n",
    "            cmap=\"gist_rainbow\",\n",
    "            alpha=0.7,\n",
    "            edgecolor=\"none\",\n",
    "            vmin=vmin, vmax=vmax\n",
    "        )\n",
    "        ax.set_title(f\"{apa} (channels {start}-{stop-1})\")\n",
    "        ax.set_xlabel(\"timestamp\")\n",
    "        ax.set_ylabel(\"TP_channel\")\n",
    "        ax.grid(True, linestyle=\"dotted\", alpha=0.5)\n",
    "\n",
    "    plt.suptitle(f\"{plot_title}\", fontsize=18)\n",
    "    fig.colorbar(sc, ax=axs, orientation=\"vertical\", shrink=0.8, label=\"TP SADC\")\n",
    "    plt.show()\n",
    "\n",
    "    # --- Bar plot: TP count per APA ---\n",
    "    if show_counts:\n",
    "        apa_counts = [\n",
    "            len(filtered[(filtered.TP_channel >= start) & (filtered.TP_channel < stop)])\n",
    "            for (start, stop) in apa_ranges.values()\n",
    "        ]\n",
    "        plt.figure(figsize=(8, 5))\n",
    "        plt.bar(apa_ranges.keys(), apa_counts, color='steelblue')\n",
    "        plt.ylabel(\"Number of TPs\")\n",
    "        plt.title(f\"Total TP Count per APA ({thresh_type} > {thresh})\")\n",
    "        plt.show()"
   ]
  },
  {
   "cell_type": "code",
   "execution_count": null,
   "id": "87e6be26",
   "metadata": {},
   "outputs": [],
   "source": []
  }
 ],
 "metadata": {
  "kernelspec": {
   "display_name": "Python 3",
   "language": "python",
   "name": "python3"
  },
  "language_info": {
   "codemirror_mode": {
    "name": "ipython",
    "version": 3
   },
   "file_extension": ".py",
   "mimetype": "text/x-python",
   "name": "python",
   "nbconvert_exporter": "python",
   "pygments_lexer": "ipython3",
   "version": "3.10.12"
  }
 },
 "nbformat": 4,
 "nbformat_minor": 5
}
