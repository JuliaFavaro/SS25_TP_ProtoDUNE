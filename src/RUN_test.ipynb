{
 "cells": [
  {
   "cell_type": "markdown",
   "id": "e6d726aa",
   "metadata": {},
   "source": [
    "# Analysis of Real Data from the PDHD Detector\n",
    "\n",
    "Once you're comfortable with the simplified MC data, the next step is to analyze real data collected by the ProtoDUNE Horizontal Drift (PDHD) detector.\n",
    "\n",
    "\n",
    "As a surface detector, PDHD is continuously bombarded by cosmic rays, resulting in multiple overlapping tracks within each recorded event. Compared to the previous data, we can expect:\n",
    "- Increased complexity due to pile-up of simultaneous activity,\n",
    "- More variable noise levels compared to MC simulations, and noisy/dead channels (which can change across multiple trigger records, as the data taking conditions are never exactly the same!)\n",
    "\n",
    "## Objectives\n",
    "\n",
    "- Load and examine the PDHD data using similar metrics as for MC (e.g., TP distributions, energy sums).\n",
    "- Compare event characteristics between real data and MC, noting differences in noise, event complexity, and signal features.\n",
    "- Try to extract meaningful features such as total visible energy, TP counts, and spatial or temporal distributions (where possible)."
   ]
  },
  {
   "cell_type": "code",
   "execution_count": 1,
   "id": "581fcd84",
   "metadata": {},
   "outputs": [
    {
     "name": "stdout",
     "output_type": "stream",
     "text": [
      "['event', 'run', 'subrun', 'n_TPs', 'n_noise_TPs_X', 'n_noise_TPs_U', 'n_noise_TPs_V', 'n_signal_TPs_X', 'n_signal_TPs_U', 'n_signal_TPs_V', 'totQ_X', 'totQ_U', 'totQ_V', 'detQ_X', 'detQ_U', 'detQ_V', 'TP_channel', 'TP_startT', 'TP_peakT', 'TP_TOT', 'TP_SADC', 'TP_peakADC', 'TP_plane', 'TP_TPC', 'TP_trueX', 'TP_trueY', 'TP_trueZ', 'TP_signal', 'nParticles', 'TrackId', 'Mother', 'Pdg', 'Eng', 'Ekin', 'Mass', 'P', 'Px', 'Py', 'Pz', 'startX', 'startY', 'startZ', 'endX', 'endY', 'endZ']\n"
     ]
    }
   ],
   "source": [
    "import uproot #Uproot is a Python library that allows you to read, write, and manipulate ROOT files without requiring ROOT or C++.\n",
    "import awkward as ak #this is for ragged data handling, which is common in particle physics data\n",
    "import pandas as pd\n",
    "import matplotlib.pyplot as plt\n",
    "import numpy as np\n",
    "import warnings\n",
    "# %matplotlib widget \n",
    "warnings.filterwarnings('ignore') # Ignore warnings for cleaner output\n",
    "\n",
    "filepath = \"../data/muons_simtps_pdhd_n100.root\"\n",
    "\n",
    "with uproot.open(filepath) as file:\n",
    "    tree = file[\"triggerana/tree\"]  # Adjust the path if your tree is elsewhere\n",
    "    print(tree.keys())  # This prints all branch names in the tree"
   ]
  },
  {
   "cell_type": "code",
   "execution_count": null,
   "id": "33ef7e64",
   "metadata": {},
   "outputs": [],
   "source": [
    "#instead of using all the branches, we can specify which ones we want to read\n",
    "def load_data(filepath, branch_names, max_events=3000):\n",
    "    \"\"\"Load data from a ROOT file into a pandas DataFrame.\"\"\"\n",
    "    try:\n",
    "        with uproot.open(filepath) as file:\n",
    "            tree = file[\"triggerana/tree\"]\n",
    "            arrays = tree.arrays(branch_names, library=\"ak\", entry_stop=max_events)\n",
    "            return ak.to_dataframe(arrays)\n",
    "    except Exception as e:\n",
    "        print(f\"Error loading data from {filepath}: {e}\")\n",
    "        return None\n",
    "\n",
    "# name of branches in the TTree to read into the pandas df\n",
    "TP_BRANCHES = [\"event\", \"TP_channel\", \"TP_startT\", \"TP_peakT\", \"TP_peakADC\", \"TP_SADC\", \"TP_plane\", \"TP_TP\", 'TP_signal'] #visible signal  - trigger primitives "
   ]
  },
  {
   "cell_type": "code",
   "execution_count": 11,
   "id": "0be76ca0",
   "metadata": {},
   "outputs": [
    {
     "name": "stdout",
     "output_type": "stream",
     "text": [
      "Error loading data from ../data/pdhd_run032974_tps.root: not found: 'TP_TP'\n",
      "in file ../data/pdhd_run032974_tps.root\n",
      "in object /triggerana/tree;1\n"
     ]
    },
    {
     "ename": "AttributeError",
     "evalue": "'NoneType' object has no attribute 'hist'",
     "output_type": "error",
     "traceback": [
      "\u001b[0;31m---------------------------------------------------------------------------\u001b[0m",
      "\u001b[0;31mAttributeError\u001b[0m                            Traceback (most recent call last)",
      "Cell \u001b[0;32mIn[11], line 3\u001b[0m\n\u001b[1;32m      1\u001b[0m \u001b[38;5;66;03m#Let's load the data from run 32974\u001b[39;00m\n\u001b[1;32m      2\u001b[0m df \u001b[38;5;241m=\u001b[39m load_data(\u001b[38;5;124m\"\u001b[39m\u001b[38;5;124m../data/pdhd_run032974_tps.root\u001b[39m\u001b[38;5;124m\"\u001b[39m, TP_BRANCHES, \u001b[38;5;241m1000\u001b[39m)\n\u001b[0;32m----> 3\u001b[0m \u001b[43mdf\u001b[49m\u001b[38;5;241;43m.\u001b[39;49m\u001b[43mhist\u001b[49m(figsize\u001b[38;5;241m=\u001b[39m (\u001b[38;5;241m10\u001b[39m,\u001b[38;5;241m10\u001b[39m), bins \u001b[38;5;241m=\u001b[39m\u001b[38;5;241m40\u001b[39m)\n\u001b[1;32m      4\u001b[0m plt\u001b[38;5;241m.\u001b[39mshow()\n",
      "\u001b[0;31mAttributeError\u001b[0m: 'NoneType' object has no attribute 'hist'"
     ]
    }
   ],
   "source": [
    "#Let's load the data from run 32974\n",
    "df = load_data(\"../data/pdhd_run032974_tps.root\", TP_BRANCHES, 1000)\n",
    "df.hist(figsize= (10,10), bins =40)\n",
    "plt.show()"
   ]
  },
  {
   "cell_type": "code",
   "execution_count": 7,
   "id": "d8bdba2c",
   "metadata": {},
   "outputs": [
    {
     "ename": "AttributeError",
     "evalue": "'NoneType' object has no attribute 'event'",
     "output_type": "error",
     "traceback": [
      "\u001b[0;31m---------------------------------------------------------------------------\u001b[0m",
      "\u001b[0;31mAttributeError\u001b[0m                            Traceback (most recent call last)",
      "Cell \u001b[0;32mIn[7], line 2\u001b[0m\n\u001b[1;32m      1\u001b[0m \u001b[38;5;66;03m#Let's see what event IDs exist in the file\u001b[39;00m\n\u001b[0;32m----> 2\u001b[0m triggers \u001b[38;5;241m=\u001b[39m \u001b[43mdf\u001b[49m\u001b[38;5;241;43m.\u001b[39;49m\u001b[43mevent\u001b[49m\u001b[38;5;241m.\u001b[39munique()\n\u001b[1;32m      3\u001b[0m triggers\n",
      "\u001b[0;31mAttributeError\u001b[0m: 'NoneType' object has no attribute 'event'"
     ]
    }
   ],
   "source": [
    "#Let's see what event IDs exist in the file\n",
    "triggers = df.event.unique()\n",
    "triggers"
   ]
  },
  {
   "cell_type": "markdown",
   "id": "8b062241",
   "metadata": {},
   "source": [
    "## Example event display\n",
    "\n",
    "### Cosmic signals from the full PDHD detector. "
   ]
  },
  {
   "cell_type": "code",
   "execution_count": null,
   "id": "fee33beb",
   "metadata": {},
   "outputs": [],
   "source": [
    "\n",
    "event = triggers[0]\n",
    "tps_all = df[(df.event == event) & (df.TP_TOT > 1)]\n",
    "vmin, vmax = tps_all[\"TP_SADC\"].min()/1e3, (tps_all[\"TP_SADC\"].max()/1e3)/2\n",
    "\n",
    "fig, ax = plt.subplots(1, 3, figsize=(14, 6))\n",
    "\n",
    "for plane in range(3):\n",
    "    tps = tps_all[tps_all.TP_plane == plane]\n",
    "    sc = ax[plane].scatter(tps.TP_peakT, tps.TP_channel, s=tps.TP_TOT / 10, c=tps.TP_SADC/1e3, cmap='turbo', vmin=vmin, vmax=vmax)\n",
    "    ax[plane].set_xlabel(\"timestamp\")\n",
    "    ax[plane].set_ylabel(\"channel\")\n",
    "    ax[plane].set_title(f\"plane {plane}\")\n",
    "\n",
    "fig.colorbar(sc, ax=ax, orientation='horizontal', fraction=0.05, pad=-0.3).set_label(\"SADC [kADC * tick]\")\n",
    "plt.tight_layout()\n",
    "plt.show()\n"
   ]
  },
  {
   "cell_type": "markdown",
   "id": "b9bcc92f",
   "metadata": {},
   "source": []
  }
 ],
 "metadata": {
  "kernelspec": {
   "display_name": "Python 3",
   "language": "python",
   "name": "python3"
  },
  "language_info": {
   "codemirror_mode": {
    "name": "ipython",
    "version": 3
   },
   "file_extension": ".py",
   "mimetype": "text/x-python",
   "name": "python",
   "nbconvert_exporter": "python",
   "pygments_lexer": "ipython3",
   "version": "3.10.12"
  }
 },
 "nbformat": 4,
 "nbformat_minor": 5
}
